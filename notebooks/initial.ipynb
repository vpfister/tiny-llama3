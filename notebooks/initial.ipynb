{
 "cells": [
  {
   "cell_type": "code",
   "id": "initial_id",
   "metadata": {
    "collapsed": true,
    "ExecuteTime": {
     "end_time": "2024-06-26T08:08:46.244112Z",
     "start_time": "2024-06-26T08:08:45.551929Z"
    }
   },
   "source": [
    "from pathlib import Path\n",
    "\n",
    "import tiktoken\n",
    "from tiktoken.load import load_tiktoken_bpe\n",
    "import torch\n",
    "import json\n",
    "import matplotlib.pyplot as plt"
   ],
   "outputs": [],
   "execution_count": 1
  },
  {
   "metadata": {},
   "cell_type": "markdown",
   "source": "## Preparation",
   "id": "1f1d3d4c72de532"
  },
  {
   "metadata": {},
   "cell_type": "markdown",
   "source": "### tokenizer",
   "id": "d41bd1a4c839bd3e"
  },
  {
   "metadata": {
    "ExecuteTime": {
     "end_time": "2024-06-26T08:14:39.019582Z",
     "start_time": "2024-06-26T08:14:38.857646Z"
    }
   },
   "cell_type": "code",
   "source": [
    "model_dir = Path(\"~/ai-data/llama3/Meta-Llama-3-8B\").expanduser()\n",
    "tokenizer_path = model_dir.joinpath(\"tokenizer.model\")\n",
    "special_tokens = [\n",
    "    \"<|begin_of_text|>\",\n",
    "    \"<|end_of_text|>\",\n",
    "    \"<|reserved_special_token_0|>\",\n",
    "    \"<|reserved_special_token_1|>\",\n",
    "    \"<|reserved_special_token_2|>\",\n",
    "    \"<|reserved_special_token_3|>\",\n",
    "    \"<|start_header_id|>\",\n",
    "    \"<|end_header_id|>\",\n",
    "    \"<|reserved_special_token_4|>\",\n",
    "    \"<|eot_id|>\",\n",
    "] + [f\"<|reserved_special_token{i}|>\" for i in range(5, 256 - 5)]\n",
    "mergeable_ranks = load_tiktoken_bpe(str(tokenizer_path))\n",
    "tokenizer = tiktoken.Encoding(\n",
    "    name=tokenizer_path.name,\n",
    "    pat_str=r\"(?i:'s|'t|'re|'ve|'m|'ll|'d)|[^\\r\\n\\p{L}\\p{N}]?\\p{L}+|\\p{N}{1,3}| ?[^\\s\\p{L}\\p{N}]+[\\r\\n]*|\\s*[\\r\\n]+|\\s+(?!\\S)|\\s+\",\n",
    "    mergeable_ranks=mergeable_ranks,\n",
    "    special_tokens={token: len(mergeable_ranks) + i for i, token in enumerate(special_tokens)},\n",
    ")\n",
    "assert tokenizer.decode(tokenizer.encode(\"Hello, world!\")) == \"Hello, world!\""
   ],
   "id": "6e8fa5558d54fe8b",
   "outputs": [],
   "execution_count": 4
  },
  {
   "metadata": {},
   "cell_type": "markdown",
   "source": "### load model weights",
   "id": "eaa17b38d23dd7a8"
  },
  {
   "metadata": {
    "ExecuteTime": {
     "end_time": "2024-06-26T08:14:47.102947Z",
     "start_time": "2024-06-26T08:14:40.640631Z"
    }
   },
   "cell_type": "code",
   "source": [
    "model = torch.load(model_dir.joinpath(\"consolidated.00.pth\"))\n",
    "print(json.dumps(list(model.keys())[:20], indent=4))"
   ],
   "id": "42f0d458491123b5",
   "outputs": [
    {
     "name": "stdout",
     "output_type": "stream",
     "text": [
      "[\n",
      "    \"tok_embeddings.weight\",\n",
      "    \"layers.0.attention.wq.weight\",\n",
      "    \"layers.0.attention.wk.weight\",\n",
      "    \"layers.0.attention.wv.weight\",\n",
      "    \"layers.0.attention.wo.weight\",\n",
      "    \"layers.0.feed_forward.w1.weight\",\n",
      "    \"layers.0.feed_forward.w3.weight\",\n",
      "    \"layers.0.feed_forward.w2.weight\",\n",
      "    \"layers.0.attention_norm.weight\",\n",
      "    \"layers.0.ffn_norm.weight\",\n",
      "    \"layers.1.attention.wq.weight\",\n",
      "    \"layers.1.attention.wk.weight\",\n",
      "    \"layers.1.attention.wv.weight\",\n",
      "    \"layers.1.attention.wo.weight\",\n",
      "    \"layers.1.feed_forward.w1.weight\",\n",
      "    \"layers.1.feed_forward.w3.weight\",\n",
      "    \"layers.1.feed_forward.w2.weight\",\n",
      "    \"layers.1.attention_norm.weight\",\n",
      "    \"layers.1.ffn_norm.weight\",\n",
      "    \"layers.2.attention.wq.weight\"\n",
      "]\n"
     ]
    }
   ],
   "execution_count": 5
  },
  {
   "metadata": {
    "ExecuteTime": {
     "end_time": "2024-06-26T08:16:44.593254Z",
     "start_time": "2024-06-26T08:16:44.589245Z"
    }
   },
   "cell_type": "code",
   "source": [
    "with open(model_dir.joinpath(\"params.json\"), \"r\") as f:\n",
    "    config = json.load(f)\n",
    "config"
   ],
   "id": "53b7ab8740bd977d",
   "outputs": [
    {
     "data": {
      "text/plain": [
       "{'dim': 4096,\n",
       " 'n_layers': 32,\n",
       " 'n_heads': 32,\n",
       " 'n_kv_heads': 8,\n",
       " 'vocab_size': 128256,\n",
       " 'multiple_of': 1024,\n",
       " 'ffn_dim_multiplier': 1.3,\n",
       " 'norm_eps': 1e-05,\n",
       " 'rope_theta': 500000.0}"
      ]
     },
     "execution_count": 6,
     "metadata": {},
     "output_type": "execute_result"
    }
   ],
   "execution_count": 6
  },
  {
   "metadata": {
    "ExecuteTime": {
     "end_time": "2024-06-26T08:19:00.548054Z",
     "start_time": "2024-06-26T08:19:00.545492Z"
    }
   },
   "cell_type": "code",
   "source": [
    "dim = config[\"dim\"]\n",
    "n_layers = config[\"n_layers\"]\n",
    "n_heads = config[\"n_heads\"]\n",
    "n_kv_heads = config[\"n_kv_heads\"]\n",
    "vocab_size = config[\"vocab_size\"]\n",
    "multiple_of = config[\"multiple_of\"]\n",
    "ffn_dim_multiplier = config[\"ffn_dim_multiplier\"]\n",
    "norm_eps = config[\"norm_eps\"]\n",
    "rope_theta = torch.tensor(config[\"rope_theta\"])"
   ],
   "id": "ff5b00e97d77fcd2",
   "outputs": [],
   "execution_count": 7
  },
  {
   "metadata": {},
   "cell_type": "markdown",
   "source": "### text to tokens",
   "id": "904fe861ab76a374"
  },
  {
   "metadata": {
    "ExecuteTime": {
     "end_time": "2024-06-26T08:28:54.769818Z",
     "start_time": "2024-06-26T08:28:54.766156Z"
    }
   },
   "cell_type": "code",
   "source": [
    "prompt = \"the answer to the ultimate question of life, the universe, and everything is \"\n",
    "tokens = [128000] + tokenizer.encode(prompt)\n",
    "print(tokens)\n",
    "tokens = torch.tensor(tokens)\n",
    "prompt_split_as_tokens = [tokenizer.decode([token.item()]) for token in tokens]\n",
    "print(prompt_split_as_tokens)"
   ],
   "id": "bd495cfb4979e200",
   "outputs": [
    {
     "name": "stdout",
     "output_type": "stream",
     "text": [
      "[128000, 1820, 4320, 311, 279, 17139, 3488, 315, 2324, 11, 279, 15861, 11, 323, 4395, 374, 220]\n",
      "['<|begin_of_text|>', 'the', ' answer', ' to', ' the', ' ultimate', ' question', ' of', ' life', ',', ' the', ' universe', ',', ' and', ' everything', ' is', ' ']\n"
     ]
    }
   ],
   "execution_count": 11
  },
  {
   "metadata": {},
   "cell_type": "markdown",
   "source": "### tokens to embeddings",
   "id": "7444f067db8ceca1"
  },
  {
   "metadata": {
    "ExecuteTime": {
     "end_time": "2024-06-26T08:29:00.309024Z",
     "start_time": "2024-06-26T08:28:58.740284Z"
    }
   },
   "cell_type": "code",
   "source": [
    "embedding_layer = torch.nn.Embedding(vocab_size, dim)\n",
    "embedding_layer.weight.data.copy_(model[\"tok_embeddings.weight\"])\n",
    "token_embeddings_unnormalized = embedding_layer(tokens).to(torch.bfloat16)\n",
    "token_embeddings_unnormalized.shape"
   ],
   "id": "4e50a1069c9d0e78",
   "outputs": [
    {
     "data": {
      "text/plain": [
       "torch.Size([17, 4096])"
      ]
     },
     "execution_count": 12,
     "metadata": {},
     "output_type": "execute_result"
    }
   ],
   "execution_count": 12
  },
  {
   "metadata": {},
   "cell_type": "markdown",
   "source": "### normalize embeddings",
   "id": "7de73e72a99e7742"
  },
  {
   "metadata": {
    "ExecuteTime": {
     "end_time": "2024-06-26T08:29:01.553552Z",
     "start_time": "2024-06-26T08:29:01.550945Z"
    }
   },
   "cell_type": "code",
   "source": [
    "def rms_norm(tensor: torch.Tensor, norm_weights: torch.Tensor) -> torch.Tensor:\n",
    "    \"\"\"Normalize the last dimension of tensor by dividing by the RMS norm.\"\"\"\n",
    "    return (tensor * torch.rsqrt(tensor.pow(2).mean(-1, keepdim=True) + norm_eps)) * norm_weights"
   ],
   "id": "da63176a60280e85",
   "outputs": [],
   "execution_count": 13
  },
  {
   "metadata": {},
   "cell_type": "markdown",
   "source": "## building the 1st layer",
   "id": "9506d2246d11ae7a"
  },
  {
   "metadata": {
    "ExecuteTime": {
     "end_time": "2024-06-26T08:37:19.588936Z",
     "start_time": "2024-06-26T08:37:19.586743Z"
    }
   },
   "cell_type": "code",
   "source": [
    "token_embeddings = rms_norm(token_embeddings_unnormalized, model[\"layers.0.attention_norm.weight\"])\n",
    "print(token_embeddings.shape)"
   ],
   "id": "c0fdabe9b6b5a05b",
   "outputs": [
    {
     "name": "stdout",
     "output_type": "stream",
     "text": [
      "torch.Size([17, 4096])\n"
     ]
    }
   ],
   "execution_count": 14
  },
  {
   "metadata": {},
   "cell_type": "markdown",
   "source": "The model weights combine all attentions heads\n",
   "id": "c0197c5b8538fc49"
  },
  {
   "metadata": {
    "ExecuteTime": {
     "end_time": "2024-06-26T08:42:58.803412Z",
     "start_time": "2024-06-26T08:42:58.801553Z"
    }
   },
   "cell_type": "code",
   "source": [
    "print(\n",
    "    model[\"layers.0.attention.wq.weight\"].shape,\n",
    "    model[\"layers.0.attention.wk.weight\"].shape,\n",
    "    model[\"layers.0.attention.wv.weight\"].shape,\n",
    "    model[\"layers.0.attention.wo.weight\"].shape\n",
    ")"
   ],
   "id": "753af94433497b9d",
   "outputs": [
    {
     "name": "stdout",
     "output_type": "stream",
     "text": [
      "torch.Size([4096, 4096]) torch.Size([1024, 4096]) torch.Size([1024, 4096]) torch.Size([4096, 4096])\n"
     ]
    }
   ],
   "execution_count": 16
  },
  {
   "metadata": {},
   "cell_type": "markdown",
   "source": "We unwrap each attention head:",
   "id": "9cbf6e3878db32d"
  },
  {
   "metadata": {
    "ExecuteTime": {
     "end_time": "2024-06-26T08:47:19.243215Z",
     "start_time": "2024-06-26T08:47:19.241090Z"
    }
   },
   "cell_type": "code",
   "source": [
    "q_layer0 = model[\"layers.0.attention.wq.weight\"]\n",
    "head_dim = q_layer0.shape[0] // n_heads\n",
    "q_layer0 = q_layer0.view(n_heads, head_dim, dim)\n",
    "print(q_layer0.shape)"
   ],
   "id": "779d73e41f37f18",
   "outputs": [
    {
     "name": "stdout",
     "output_type": "stream",
     "text": [
      "torch.Size([32, 128, 4096])\n"
     ]
    }
   ],
   "execution_count": 17
  },
  {
   "metadata": {},
   "cell_type": "markdown",
   "source": "implementation of the 1st head of the 1st layer",
   "id": "3b4ed2f846260fb4"
  },
  {
   "metadata": {
    "ExecuteTime": {
     "end_time": "2024-06-26T09:55:29.434710Z",
     "start_time": "2024-06-26T09:55:29.432Z"
    }
   },
   "cell_type": "code",
   "source": [
    "q_layer0_head0 = q_layer0[0]\n",
    "print(\"shape of the 1st attention head query matrix:\", q_layer0_head0.shape)"
   ],
   "id": "e7fc53db0a534adc",
   "outputs": [
    {
     "name": "stdout",
     "output_type": "stream",
     "text": [
      "shape of the 1st attention head q: torch.Size([128, 4096])\n"
     ]
    }
   ],
   "execution_count": 18
  },
  {
   "metadata": {},
   "cell_type": "markdown",
   "source": "compute the query vectors for the input tokens",
   "id": "7f93df3cb5883d33"
  },
  {
   "metadata": {
    "ExecuteTime": {
     "end_time": "2024-06-26T10:07:28.929323Z",
     "start_time": "2024-06-26T10:07:28.918011Z"
    }
   },
   "cell_type": "code",
   "source": [
    "q_per_token = torch.matmul(token_embeddings, q_layer0_head0.T)\n",
    "print(\"shape of the 1st attention head query vector:\", q_per_token.shape)\n"
   ],
   "id": "890ed10037363a72",
   "outputs": [
    {
     "name": "stdout",
     "output_type": "stream",
     "text": [
      "shape of the 1st attention head query vector: torch.Size([17, 128])\n"
     ]
    }
   ],
   "execution_count": 19
  },
  {
   "metadata": {},
   "cell_type": "markdown",
   "source": "### RoPE ",
   "id": "3a9955aa0d0d20fe"
  },
  {
   "metadata": {
    "ExecuteTime": {
     "end_time": "2024-06-26T17:05:15.229686Z",
     "start_time": "2024-06-26T17:05:15.227395Z"
    }
   },
   "cell_type": "code",
   "source": [
    "q_per_token_split_into_pairs = q_per_token.float().view(q_per_token.shape[0], -1, 2)\n",
    "print(q_per_token_split_into_pairs.shape)"
   ],
   "id": "6d2d2826fcd9473b",
   "outputs": [
    {
     "name": "stdout",
     "output_type": "stream",
     "text": [
      "torch.Size([17, 64, 2])\n"
     ]
    }
   ],
   "execution_count": 21
  },
  {
   "metadata": {
    "ExecuteTime": {
     "end_time": "2024-06-26T17:06:52.289936Z",
     "start_time": "2024-06-26T17:06:52.285285Z"
    }
   },
   "cell_type": "code",
   "source": [
    "zero_to_one_split_into_64_parts = torch.tensor(range(64)) / 64\n",
    "zero_to_one_split_into_64_parts"
   ],
   "id": "6c239f3867ae904b",
   "outputs": [
    {
     "data": {
      "text/plain": [
       "tensor([0.0000, 0.0156, 0.0312, 0.0469, 0.0625, 0.0781, 0.0938, 0.1094, 0.1250,\n",
       "        0.1406, 0.1562, 0.1719, 0.1875, 0.2031, 0.2188, 0.2344, 0.2500, 0.2656,\n",
       "        0.2812, 0.2969, 0.3125, 0.3281, 0.3438, 0.3594, 0.3750, 0.3906, 0.4062,\n",
       "        0.4219, 0.4375, 0.4531, 0.4688, 0.4844, 0.5000, 0.5156, 0.5312, 0.5469,\n",
       "        0.5625, 0.5781, 0.5938, 0.6094, 0.6250, 0.6406, 0.6562, 0.6719, 0.6875,\n",
       "        0.7031, 0.7188, 0.7344, 0.7500, 0.7656, 0.7812, 0.7969, 0.8125, 0.8281,\n",
       "        0.8438, 0.8594, 0.8750, 0.8906, 0.9062, 0.9219, 0.9375, 0.9531, 0.9688,\n",
       "        0.9844])"
      ]
     },
     "execution_count": 22,
     "metadata": {},
     "output_type": "execute_result"
    }
   ],
   "execution_count": 22
  },
  {
   "metadata": {
    "ExecuteTime": {
     "end_time": "2024-06-26T17:07:56.101246Z",
     "start_time": "2024-06-26T17:07:56.097249Z"
    }
   },
   "cell_type": "code",
   "source": [
    "freqs = 1.0 / (rope_theta ** zero_to_one_split_into_64_parts)\n",
    "freqs"
   ],
   "id": "8bde797fac89b33b",
   "outputs": [
    {
     "data": {
      "text/plain": [
       "tensor([1.0000e+00, 8.1462e-01, 6.6360e-01, 5.4058e-01, 4.4037e-01, 3.5873e-01,\n",
       "        2.9223e-01, 2.3805e-01, 1.9392e-01, 1.5797e-01, 1.2869e-01, 1.0483e-01,\n",
       "        8.5397e-02, 6.9566e-02, 5.6670e-02, 4.6164e-02, 3.7606e-02, 3.0635e-02,\n",
       "        2.4955e-02, 2.0329e-02, 1.6560e-02, 1.3490e-02, 1.0990e-02, 8.9523e-03,\n",
       "        7.2927e-03, 5.9407e-03, 4.8394e-03, 3.9423e-03, 3.2114e-03, 2.6161e-03,\n",
       "        2.1311e-03, 1.7360e-03, 1.4142e-03, 1.1520e-03, 9.3847e-04, 7.6450e-04,\n",
       "        6.2277e-04, 5.0732e-04, 4.1327e-04, 3.3666e-04, 2.7425e-04, 2.2341e-04,\n",
       "        1.8199e-04, 1.4825e-04, 1.2077e-04, 9.8381e-05, 8.0143e-05, 6.5286e-05,\n",
       "        5.3183e-05, 4.3324e-05, 3.5292e-05, 2.8750e-05, 2.3420e-05, 1.9078e-05,\n",
       "        1.5542e-05, 1.2660e-05, 1.0313e-05, 8.4015e-06, 6.8440e-06, 5.5752e-06,\n",
       "        4.5417e-06, 3.6997e-06, 3.0139e-06, 2.4551e-06])"
      ]
     },
     "execution_count": 23,
     "metadata": {},
     "output_type": "execute_result"
    }
   ],
   "execution_count": 23
  },
  {
   "metadata": {
    "ExecuteTime": {
     "end_time": "2024-06-26T17:13:14.102625Z",
     "start_time": "2024-06-26T17:13:14.097782Z"
    }
   },
   "cell_type": "code",
   "source": [
    "freqs_for_each_token = torch.outer(torch.arange(tokens.shape[0]), freqs)\n",
    "freqs_cis = torch.polar(torch.ones_like(freqs_for_each_token), freqs_for_each_token)\n",
    "print(f\"freqs_for_each_token shape: {freqs_for_each_token.shape}\")"
   ],
   "id": "ac0cc001c0a92f00",
   "outputs": [
    {
     "name": "stdout",
     "output_type": "stream",
     "text": [
      "freqs_for_each_token shape: torch.Size([17, 64])\n"
     ]
    }
   ],
   "execution_count": 26
  },
  {
   "metadata": {
    "ExecuteTime": {
     "end_time": "2024-06-26T17:29:03.802658Z",
     "start_time": "2024-06-26T17:29:03.742860Z"
    }
   },
   "cell_type": "code",
   "source": [
    "# viewing the 3rd row of freqs_cis\n",
    "value = freqs_cis[3]\n",
    "plt.figure(figsize=(8, 4))\n",
    "for i, element in enumerate(value[:tokens.shape[0]]):\n",
    "    plt.plot([0, element.real], [0, element.imag], color='blue', linewidth=2, label=f\"Index: {i}\")\n",
    "    plt.annotate(f\"{i}\", xy=(element.real, element.imag), color='red')\n",
    "plt.xlabel(\"real\")\n",
    "plt.ylabel(\"imag\")"
   ],
   "id": "6c9c753efc115c9a",
   "outputs": [
    {
     "data": {
      "text/plain": [
       "Text(0, 0.5, 'imag')"
      ]
     },
     "execution_count": 29,
     "metadata": {},
     "output_type": "execute_result"
    },
    {
     "data": {
      "text/plain": [
       "<Figure size 800x400 with 1 Axes>"
      ],
      "image/png": "[encoded data removed]"
     },
     "metadata": {},
     "output_type": "display_data"
    }
   ],
   "execution_count": 29
  },
  {
   "metadata": {},
   "cell_type": "markdown",
   "source": "### process the queries `q`",
   "id": "8eb41781dbfafc09"
  },
  {
   "metadata": {
    "ExecuteTime": {
     "end_time": "2024-06-26T17:31:06.740299Z",
     "start_time": "2024-06-26T17:31:06.737601Z"
    }
   },
   "cell_type": "code",
   "source": [
    "q_per_token_as_complex = torch.view_as_complex(q_per_token_split_into_pairs)\n",
    "print(q_per_token_as_complex.shape)"
   ],
   "id": "dff5f5051c2e9e48",
   "outputs": [
    {
     "name": "stdout",
     "output_type": "stream",
     "text": [
      "torch.Size([17, 64])\n"
     ]
    }
   ],
   "execution_count": 30
  },
  {
   "metadata": {
    "ExecuteTime": {
     "end_time": "2024-06-26T17:32:23.690367Z",
     "start_time": "2024-06-26T17:32:23.688369Z"
    }
   },
   "cell_type": "code",
   "source": [
    "q_per_token_as_complex_rotated = q_per_token_as_complex * freqs_cis\n",
    "print(q_per_token_as_complex_rotated.shape)"
   ],
   "id": "e4cf37ba48c7c6ce",
   "outputs": [
    {
     "name": "stdout",
     "output_type": "stream",
     "text": [
      "torch.Size([17, 64])\n"
     ]
    }
   ],
   "execution_count": 31
  },
  {
   "metadata": {
    "ExecuteTime": {
     "end_time": "2024-06-26T17:34:31.269037Z",
     "start_time": "2024-06-26T17:34:31.266615Z"
    }
   },
   "cell_type": "code",
   "source": [
    "q_per_token_split_into_pairs_rotated = torch.view_as_real(q_per_token_as_complex_rotated)\n",
    "print(q_per_token_split_into_pairs_rotated.shape)"
   ],
   "id": "ad9707cf4191ac3f",
   "outputs": [
    {
     "name": "stdout",
     "output_type": "stream",
     "text": [
      "torch.Size([17, 64, 2])\n"
     ]
    }
   ],
   "execution_count": 32
  },
  {
   "metadata": {
    "ExecuteTime": {
     "end_time": "2024-06-26T17:36:08.828812Z",
     "start_time": "2024-06-26T17:36:08.826472Z"
    }
   },
   "cell_type": "code",
   "source": [
    "q_per_token_rotated = q_per_token_split_into_pairs_rotated.view(q_per_token.shape)\n",
    "print(q_per_token_rotated.shape)"
   ],
   "id": "5ccb3e6c4319186b",
   "outputs": [
    {
     "name": "stdout",
     "output_type": "stream",
     "text": [
      "torch.Size([17, 128])\n"
     ]
    }
   ],
   "execution_count": 33
  },
  {
   "metadata": {},
   "cell_type": "markdown",
   "source": "### process the keys",
   "id": "891746a1132cbc92"
  },
  {
   "metadata": {
    "ExecuteTime": {
     "end_time": "2024-06-26T17:40:50.906874Z",
     "start_time": "2024-06-26T17:40:50.904742Z"
    }
   },
   "cell_type": "code",
   "source": [
    "k_layer0 = model[\"layers.0.attention.wk.weight\"]\n",
    "k_layer0 = k_layer0.view(n_kv_heads, k_layer0.shape[0] // n_kv_heads, dim)\n",
    "print(k_layer0.shape)"
   ],
   "id": "f081c7ecd024fc6b",
   "outputs": [
    {
     "name": "stdout",
     "output_type": "stream",
     "text": [
      "torch.Size([8, 128, 4096])\n"
     ]
    }
   ],
   "execution_count": 34
  },
  {
   "metadata": {
    "ExecuteTime": {
     "end_time": "2024-06-26T17:42:29.575691Z",
     "start_time": "2024-06-26T17:42:29.573212Z"
    }
   },
   "cell_type": "code",
   "source": [
    "k_layer0_head0 = k_layer0[0]\n",
    "print(\"shape of the 1st attention head key matrix:\", k_layer0_head0.shape)"
   ],
   "id": "53d0c679739f9ab5",
   "outputs": [
    {
     "name": "stdout",
     "output_type": "stream",
     "text": [
      "shape of the 1st attention head key matrix: torch.Size([128, 4096])\n"
     ]
    }
   ],
   "execution_count": 35
  },
  {
   "metadata": {
    "ExecuteTime": {
     "end_time": "2024-06-26T17:43:49.158430Z",
     "start_time": "2024-06-26T17:43:49.153449Z"
    }
   },
   "cell_type": "code",
   "source": [
    "k_per_token = torch.matmul(token_embeddings, k_layer0_head0.T)\n",
    "print(\"shape of the 1st attention head key vector:\", k_per_token.shape)"
   ],
   "id": "bb655efe10a3dd66",
   "outputs": [
    {
     "name": "stdout",
     "output_type": "stream",
     "text": [
      "shape of the 1st attention head key vector: torch.Size([17, 128])\n"
     ]
    }
   ],
   "execution_count": 36
  },
  {
   "metadata": {
    "ExecuteTime": {
     "end_time": "2024-06-26T17:44:22.651552Z",
     "start_time": "2024-06-26T17:44:22.649731Z"
    }
   },
   "cell_type": "code",
   "source": [
    "k_per_token_split_into_pairs = k_per_token.float().view(k_per_token.shape[0], -1, 2)\n",
    "print(k_per_token_split_into_pairs.shape)"
   ],
   "id": "edda15d327dd2582",
   "outputs": [
    {
     "name": "stdout",
     "output_type": "stream",
     "text": [
      "torch.Size([17, 64, 2])\n"
     ]
    }
   ],
   "execution_count": 37
  },
  {
   "metadata": {
    "ExecuteTime": {
     "end_time": "2024-06-26T17:45:39.673575Z",
     "start_time": "2024-06-26T17:45:39.671517Z"
    }
   },
   "cell_type": "code",
   "source": [
    "k_per_token_as_complex = torch.view_as_complex(k_per_token_split_into_pairs)\n",
    "print(k_per_token_as_complex.shape)"
   ],
   "id": "92c86eeeac16ccb7",
   "outputs": [
    {
     "name": "stdout",
     "output_type": "stream",
     "text": [
      "torch.Size([17, 64])\n"
     ]
    }
   ],
   "execution_count": 38
  },
  {
   "metadata": {
    "ExecuteTime": {
     "end_time": "2024-06-26T17:46:56.136061Z",
     "start_time": "2024-06-26T17:46:56.133918Z"
    }
   },
   "cell_type": "code",
   "source": [
    "k_per_token_split_into_pairs_rotated = torch.view_as_real(k_per_token_as_complex * freqs_cis)\n",
    "print(k_per_token_split_into_pairs_rotated.shape)"
   ],
   "id": "d80527a1bcff6fbf",
   "outputs": [
    {
     "name": "stdout",
     "output_type": "stream",
     "text": [
      "torch.Size([17, 64, 2])\n"
     ]
    }
   ],
   "execution_count": 39
  },
  {
   "metadata": {
    "ExecuteTime": {
     "end_time": "2024-06-26T17:47:38.890472Z",
     "start_time": "2024-06-26T17:47:38.887960Z"
    }
   },
   "cell_type": "code",
   "source": [
    "k_per_token_rotated = k_per_token_split_into_pairs_rotated.view(k_per_token.shape)\n",
    "print(k_per_token_rotated.shape)"
   ],
   "id": "3b67a9fa3ea2f227",
   "outputs": [
    {
     "name": "stdout",
     "output_type": "stream",
     "text": [
      "torch.Size([17, 128])\n"
     ]
    }
   ],
   "execution_count": 40
  },
  {
   "metadata": {},
   "cell_type": "markdown",
   "source": "### compute product key * query",
   "id": "3b0fbf45d879fe7d"
  },
  {
   "metadata": {
    "ExecuteTime": {
     "end_time": "2024-06-26T17:51:07.252229Z",
     "start_time": "2024-06-26T17:51:07.247748Z"
    }
   },
   "cell_type": "code",
   "source": [
    "qk_per_token = torch.matmul(q_per_token_rotated, k_per_token_rotated.T) / (head_dim ** 0.5)\n",
    "print(qk_per_token.shape)"
   ],
   "id": "cb0002e634587c70",
   "outputs": [
    {
     "name": "stdout",
     "output_type": "stream",
     "text": [
      "torch.Size([17, 17])\n"
     ]
    }
   ],
   "execution_count": 41
  },
  {
   "metadata": {
    "ExecuteTime": {
     "end_time": "2024-06-26T17:57:36.592071Z",
     "start_time": "2024-06-26T17:57:36.514610Z"
    }
   },
   "cell_type": "code",
   "source": [
    "def display_qk_heatmap(qk_per_token):\n",
    "    _, ax = plt.subplots()\n",
    "    im = ax.imshow(qk_per_token.to(float).detach(), cmap='viridis')\n",
    "    ax.set_xticks(range(len(prompt_split_as_tokens)))\n",
    "    ax.set_yticks(range(len(prompt_split_as_tokens)))\n",
    "    ax.set_xticklabels(prompt_split_as_tokens, rotation=90)\n",
    "    ax.set_yticklabels(prompt_split_as_tokens)\n",
    "    ax.figure.colorbar(im, ax=ax)\n",
    "    \n",
    "display_qk_heatmap(qk_per_token)"
   ],
   "id": "c5cabf3c1d74c7b7",
   "outputs": [
    {
     "data": {
      "text/plain": [
       "<Figure size 640x480 with 2 Axes>"
      ],
      "image/png": "[encoded data removed]"
     },
     "metadata": {},
     "output_type": "display_data"
    }
   ],
   "execution_count": 47
  },
  {
   "metadata": {
    "ExecuteTime": {
     "end_time": "2024-06-26T17:57:39.598110Z",
     "start_time": "2024-06-26T17:57:39.499570Z"
    }
   },
   "cell_type": "code",
   "source": [
    "mask = torch.full((len(tokens), len(tokens)), float(\"-inf\"), device=tokens.device)\n",
    "mask = torch.triu(mask, diagonal=1)\n",
    "\n",
    "qk_per_token_after_masking = qk_per_token + mask\n",
    "display_qk_heatmap(qk_per_token_after_masking)"
   ],
   "id": "8ab7a65892b1d58d",
   "outputs": [
    {
     "data": {
      "text/plain": [
       "<Figure size 640x480 with 2 Axes>"
      ],
      "image/png": "[encoded data removed]"
     },
     "metadata": {},
     "output_type": "display_data"
    }
   ],
   "execution_count": 48
  },
  {
   "metadata": {
    "ExecuteTime": {
     "end_time": "2024-06-26T18:00:17.169277Z",
     "start_time": "2024-06-26T18:00:17.035012Z"
    }
   },
   "cell_type": "code",
   "source": [
    "qk_per_token_after_masking_after_softmax = torch.nn.functional.softmax(qk_per_token_after_masking, dim=1).to(torch.bfloat16)\n",
    "display_qk_heatmap(qk_per_token_after_masking_after_softmax)"
   ],
   "id": "d30d664cc03977dc",
   "outputs": [
    {
     "data": {
      "text/plain": [
       "<Figure size 640x480 with 2 Axes>"
      ],
      "image/png": "[encoded data removed]"
     },
     "metadata": {},
     "output_type": "display_data"
    }
   ],
   "execution_count": 49
  },
  {
   "metadata": {},
   "cell_type": "markdown",
   "source": "### values",
   "id": "ea3cae926437397a"
  },
  {
   "metadata": {
    "ExecuteTime": {
     "end_time": "2024-06-26T18:05:27.751012Z",
     "start_time": "2024-06-26T18:05:27.748986Z"
    }
   },
   "cell_type": "code",
   "source": [
    "v_layer0 = model[\"layers.0.attention.wv.weight\"]\n",
    "v_layer0 = v_layer0.view(n_kv_heads, v_layer0.shape[0] // n_kv_heads, dim)\n",
    "print(v_layer0.shape)"
   ],
   "id": "3745b3477e75e663",
   "outputs": [
    {
     "name": "stdout",
     "output_type": "stream",
     "text": [
      "torch.Size([8, 128, 4096])\n"
     ]
    }
   ],
   "execution_count": 50
  },
  {
   "metadata": {
    "ExecuteTime": {
     "end_time": "2024-06-26T18:06:53.389037Z",
     "start_time": "2024-06-26T18:06:53.386700Z"
    }
   },
   "cell_type": "code",
   "source": [
    "v_layer0_head0 = v_layer0[0]\n",
    "print(\"shape of the 1st attention head value matrix:\", v_layer0_head0.shape)"
   ],
   "id": "40f6e51ad7daf85a",
   "outputs": [
    {
     "name": "stdout",
     "output_type": "stream",
     "text": [
      "shape of the 1st attention head value matrix: torch.Size([128, 4096])\n"
     ]
    }
   ],
   "execution_count": 51
  },
  {
   "metadata": {
    "ExecuteTime": {
     "end_time": "2024-06-26T18:07:38.310505Z",
     "start_time": "2024-06-26T18:07:38.304616Z"
    }
   },
   "cell_type": "code",
   "source": [
    "v_per_token = torch.matmul(token_embeddings, v_layer0_head0.T)\n",
    "print(v_per_token.shape)"
   ],
   "id": "edcfea82e9bb2b5c",
   "outputs": [
    {
     "name": "stdout",
     "output_type": "stream",
     "text": [
      "torch.Size([17, 128])\n"
     ]
    }
   ],
   "execution_count": 53
  },
  {
   "metadata": {},
   "cell_type": "markdown",
   "source": "### attention",
   "id": "4f7dd501e25c497d"
  },
  {
   "metadata": {
    "ExecuteTime": {
     "end_time": "2024-06-26T18:09:23.962205Z",
     "start_time": "2024-06-26T18:09:23.960416Z"
    }
   },
   "cell_type": "code",
   "source": [
    "qkv_attention = torch.matmul(qk_per_token_after_masking_after_softmax, v_per_token)\n",
    "print(qkv_attention.shape)"
   ],
   "id": "471dde02dc239e38",
   "outputs": [
    {
     "name": "stdout",
     "output_type": "stream",
     "text": [
      "torch.Size([17, 128])\n"
     ]
    }
   ],
   "execution_count": 54
  },
  {
   "metadata": {},
   "cell_type": "markdown",
   "source": "### iterate over heads",
   "id": "e51f0926056d07ba"
  },
  {
   "metadata": {
    "ExecuteTime": {
     "end_time": "2024-06-26T18:11:52.534864Z",
     "start_time": "2024-06-26T18:11:52.188505Z"
    }
   },
   "cell_type": "code",
   "source": [
    "qkv_attention_store = []\n",
    "\n",
    "for head in range(n_heads):\n",
    "    q_layer0_head = q_layer0[head]\n",
    "    k_layer0_head = k_layer0[head//4] # key weights are shared across 4 heads\n",
    "    v_layer0_head = v_layer0[head//4] # value weights are shared across 4 heads\n",
    "    q_per_token = torch.matmul(token_embeddings, q_layer0_head.T)\n",
    "    k_per_token = torch.matmul(token_embeddings, k_layer0_head.T)\n",
    "    v_per_token = torch.matmul(token_embeddings, v_layer0_head.T)\n",
    "\n",
    "    q_per_token_split_into_pairs = q_per_token.float().view(q_per_token.shape[0], -1, 2)\n",
    "    q_per_token_as_complex_numbers = torch.view_as_complex(q_per_token_split_into_pairs)\n",
    "    q_per_token_split_into_pairs_rotated = torch.view_as_real(q_per_token_as_complex_numbers * freqs_cis[:len(tokens)])\n",
    "    q_per_token_rotated = q_per_token_split_into_pairs_rotated.view(q_per_token.shape)\n",
    "\n",
    "    k_per_token_split_into_pairs = k_per_token.float().view(k_per_token.shape[0], -1, 2)\n",
    "    k_per_token_as_complex_numbers = torch.view_as_complex(k_per_token_split_into_pairs)\n",
    "    k_per_token_split_into_pairs_rotated = torch.view_as_real(k_per_token_as_complex_numbers * freqs_cis[:len(tokens)])\n",
    "    k_per_token_rotated = k_per_token_split_into_pairs_rotated.view(k_per_token.shape)\n",
    "\n",
    "    qk_per_token = torch.matmul(q_per_token_rotated, k_per_token_rotated.T)/(128)**0.5\n",
    "    mask = torch.full((len(tokens), len(tokens)), float(\"-inf\"), device=tokens.device)\n",
    "    mask = torch.triu(mask, diagonal=1)\n",
    "    qk_per_token_after_masking = qk_per_token + mask\n",
    "    qk_per_token_after_masking_after_softmax = torch.nn.functional.softmax(qk_per_token_after_masking, dim=1).to(torch.bfloat16)\n",
    "    qkv_attention = torch.matmul(qk_per_token_after_masking_after_softmax, v_per_token)\n",
    "    qkv_attention_store.append(qkv_attention)\n",
    "\n",
    "len(qkv_attention_store)"
   ],
   "id": "8c8419063afadff8",
   "outputs": [
    {
     "data": {
      "text/plain": [
       "32"
      ]
     },
     "execution_count": 55,
     "metadata": {},
     "output_type": "execute_result"
    }
   ],
   "execution_count": 55
  },
  {
   "metadata": {
    "ExecuteTime": {
     "end_time": "2024-06-26T18:12:32.048015Z",
     "start_time": "2024-06-26T18:12:32.045591Z"
    }
   },
   "cell_type": "code",
   "source": [
    "stacked_qkv_attention = torch.cat(qkv_attention_store, dim=-1)\n",
    "stacked_qkv_attention.shape"
   ],
   "id": "894c4140cf1adfb8",
   "outputs": [
    {
     "data": {
      "text/plain": [
       "torch.Size([17, 4096])"
      ]
     },
     "execution_count": 56,
     "metadata": {},
     "output_type": "execute_result"
    }
   ],
   "execution_count": 56
  },
  {
   "metadata": {},
   "cell_type": "markdown",
   "source": "### weight matrix",
   "id": "6f507942fb8a4dc4"
  },
  {
   "metadata": {
    "ExecuteTime": {
     "end_time": "2024-06-26T18:15:17.283986Z",
     "start_time": "2024-06-26T18:15:17.281615Z"
    }
   },
   "cell_type": "code",
   "source": [
    "w_layer0 = model[\"layers.0.attention.wo.weight\"]\n",
    "w_layer0.shape"
   ],
   "id": "78304e73bd44b132",
   "outputs": [
    {
     "data": {
      "text/plain": [
       "torch.Size([4096, 4096])"
      ]
     },
     "execution_count": 57,
     "metadata": {},
     "output_type": "execute_result"
    }
   ],
   "execution_count": 57
  },
  {
   "metadata": {
    "ExecuteTime": {
     "end_time": "2024-06-26T18:15:40.992765Z",
     "start_time": "2024-06-26T18:15:40.890059Z"
    }
   },
   "cell_type": "code",
   "source": [
    "embedding_delta = torch.matmul(stacked_qkv_attention, w_layer0.T)\n",
    "embedding_delta.shape"
   ],
   "id": "64c983d1ff18da9a",
   "outputs": [
    {
     "data": {
      "text/plain": [
       "torch.Size([17, 4096])"
      ]
     },
     "execution_count": 58,
     "metadata": {},
     "output_type": "execute_result"
    }
   ],
   "execution_count": 58
  },
  {
   "metadata": {
    "ExecuteTime": {
     "end_time": "2024-06-26T18:17:15.144950Z",
     "start_time": "2024-06-26T18:17:15.142709Z"
    }
   },
   "cell_type": "code",
   "source": "embedding_after_edit = token_embeddings_unnormalized + embedding_delta",
   "id": "174102702154ae93",
   "outputs": [],
   "execution_count": 59
  },
  {
   "metadata": {},
   "cell_type": "markdown",
   "source": "### normalize & feed forward",
   "id": "d47c5a92d6ca9cf4"
  },
  {
   "metadata": {
    "ExecuteTime": {
     "end_time": "2024-06-26T18:24:30.860637Z",
     "start_time": "2024-06-26T18:24:30.852799Z"
    }
   },
   "cell_type": "code",
   "source": [
    "embedding_after_edit_normalized = rms_norm(embedding_after_edit, model[\"layers.0.ffn_norm.weight\"])\n",
    "print(embedding_after_edit.shape)"
   ],
   "id": "ec74456dcacfcc04",
   "outputs": [
    {
     "name": "stdout",
     "output_type": "stream",
     "text": [
      "torch.Size([17, 4096])\n"
     ]
    }
   ],
   "execution_count": 61
  },
  {
   "metadata": {
    "ExecuteTime": {
     "end_time": "2024-06-26T18:24:33.184524Z",
     "start_time": "2024-06-26T18:24:32.028548Z"
    }
   },
   "cell_type": "code",
   "source": [
    "w1 = model[\"layers.0.feed_forward.w1.weight\"]\n",
    "w2 = model[\"layers.0.feed_forward.w2.weight\"]\n",
    "w3 = model[\"layers.0.feed_forward.w3.weight\"]\n",
    "output_after_feedforward = torch.matmul(torch.functional.F.silu(torch.matmul(embedding_after_edit_normalized, w1.T)) * torch.matmul(embedding_after_edit_normalized, w3.T), w2.T)\n",
    "output_after_feedforward.shape"
   ],
   "id": "9d3696d6237f759d",
   "outputs": [
    {
     "data": {
      "text/plain": [
       "torch.Size([17, 4096])"
      ]
     },
     "execution_count": 62,
     "metadata": {},
     "output_type": "execute_result"
    }
   ],
   "execution_count": 62
  },
  {
   "metadata": {},
   "cell_type": "markdown",
   "source": "## all layers",
   "id": "79cbb13730f9204"
  },
  {
   "metadata": {
    "ExecuteTime": {
     "end_time": "2024-06-26T18:27:40.794422Z",
     "start_time": "2024-06-26T18:26:54.873733Z"
    }
   },
   "cell_type": "code",
   "source": [
    "final_embedding = token_embeddings_unnormalized\n",
    "for layer in range(n_layers):\n",
    "    qkv_attention_store = []\n",
    "    layer_embedding_norm = rms_norm(final_embedding, model[f\"layers.{layer}.attention_norm.weight\"])\n",
    "    q_layer = model[f\"layers.{layer}.attention.wq.weight\"]\n",
    "    q_layer = q_layer.view(n_heads, q_layer.shape[0] // n_heads, dim)\n",
    "    k_layer = model[f\"layers.{layer}.attention.wk.weight\"]\n",
    "    k_layer = k_layer.view(n_kv_heads, k_layer.shape[0] // n_kv_heads, dim)\n",
    "    v_layer = model[f\"layers.{layer}.attention.wv.weight\"]\n",
    "    v_layer = v_layer.view(n_kv_heads, v_layer.shape[0] // n_kv_heads, dim)\n",
    "    w_layer = model[f\"layers.{layer}.attention.wo.weight\"]\n",
    "    for head in range(n_heads):\n",
    "        q_layer_head = q_layer[head]\n",
    "        k_layer_head = k_layer[head//4]\n",
    "        v_layer_head = v_layer[head//4]\n",
    "        q_per_token = torch.matmul(layer_embedding_norm, q_layer_head.T)\n",
    "        k_per_token = torch.matmul(layer_embedding_norm, k_layer_head.T)\n",
    "        v_per_token = torch.matmul(layer_embedding_norm, v_layer_head.T)\n",
    "        q_per_token_split_into_pairs = q_per_token.float().view(q_per_token.shape[0], -1, 2)\n",
    "        q_per_token_as_complex_numbers = torch.view_as_complex(q_per_token_split_into_pairs)\n",
    "        q_per_token_split_into_pairs_rotated = torch.view_as_real(q_per_token_as_complex_numbers * freqs_cis)\n",
    "        q_per_token_rotated = q_per_token_split_into_pairs_rotated.view(q_per_token.shape)\n",
    "        k_per_token_split_into_pairs = k_per_token.float().view(k_per_token.shape[0], -1, 2)\n",
    "        k_per_token_as_complex_numbers = torch.view_as_complex(k_per_token_split_into_pairs)\n",
    "        k_per_token_split_into_pairs_rotated = torch.view_as_real(k_per_token_as_complex_numbers * freqs_cis)\n",
    "        k_per_token_rotated = k_per_token_split_into_pairs_rotated.view(k_per_token.shape)\n",
    "        qk_per_token = torch.matmul(q_per_token_rotated, k_per_token_rotated.T)/(128)**0.5\n",
    "        mask = torch.full((len(token_embeddings_unnormalized), len(token_embeddings_unnormalized)), float(\"-inf\"))\n",
    "        mask = torch.triu(mask, diagonal=1)\n",
    "        qk_per_token_after_masking = qk_per_token + mask\n",
    "        qk_per_token_after_masking_after_softmax = torch.nn.functional.softmax(qk_per_token_after_masking, dim=1).to(torch.bfloat16)\n",
    "        qkv_attention = torch.matmul(qk_per_token_after_masking_after_softmax, v_per_token)\n",
    "        qkv_attention_store.append(qkv_attention)\n",
    "\n",
    "    stacked_qkv_attention = torch.cat(qkv_attention_store, dim=-1)\n",
    "    w_layer = model[f\"layers.{layer}.attention.wo.weight\"]\n",
    "    embedding_delta = torch.matmul(stacked_qkv_attention, w_layer.T)\n",
    "    embedding_after_edit = final_embedding + embedding_delta\n",
    "    embedding_after_edit_normalized = rms_norm(embedding_after_edit, model[f\"layers.{layer}.ffn_norm.weight\"])\n",
    "    w1 = model[f\"layers.{layer}.feed_forward.w1.weight\"]\n",
    "    w2 = model[f\"layers.{layer}.feed_forward.w2.weight\"]\n",
    "    w3 = model[f\"layers.{layer}.feed_forward.w3.weight\"]\n",
    "    output_after_feedforward = torch.matmul(torch.functional.F.silu(torch.matmul(embedding_after_edit_normalized, w1.T)) * torch.matmul(embedding_after_edit_normalized, w3.T), w2.T)\n",
    "    final_embedding = embedding_after_edit+output_after_feedforward"
   ],
   "id": "bf3bb98f45ba5e16",
   "outputs": [],
   "execution_count": 63
  },
  {
   "metadata": {},
   "cell_type": "markdown",
   "source": "### predict next token",
   "id": "a99895de8605baa8"
  },
  {
   "metadata": {
    "ExecuteTime": {
     "end_time": "2024-06-26T18:29:33.488693Z",
     "start_time": "2024-06-26T18:29:33.486616Z"
    }
   },
   "cell_type": "code",
   "source": [
    "final_embedding = rms_norm(final_embedding, model[f\"norm.weight\"])\n",
    "print(final_embedding.shape)"
   ],
   "id": "3a915ef93700862a",
   "outputs": [
    {
     "name": "stdout",
     "output_type": "stream",
     "text": [
      "torch.Size([17, 4096])\n"
     ]
    }
   ],
   "execution_count": 64
  },
  {
   "metadata": {
    "ExecuteTime": {
     "end_time": "2024-06-26T18:30:25.352872Z",
     "start_time": "2024-06-26T18:30:25.350355Z"
    }
   },
   "cell_type": "code",
   "source": "model[\"output.weight\"].shape",
   "id": "bf9ee18e09b18567",
   "outputs": [
    {
     "data": {
      "text/plain": [
       "torch.Size([128256, 4096])"
      ]
     },
     "execution_count": 65,
     "metadata": {},
     "output_type": "execute_result"
    }
   ],
   "execution_count": 65
  },
  {
   "metadata": {
    "ExecuteTime": {
     "end_time": "2024-06-26T18:31:45.014981Z",
     "start_time": "2024-06-26T18:31:44.825303Z"
    }
   },
   "cell_type": "code",
   "source": [
    "logits = torch.matmul(final_embedding[-1], model[f\"output.weight\"].T)\n",
    "print(logits.shape)"
   ],
   "id": "a4c52d203d153449",
   "outputs": [
    {
     "name": "stdout",
     "output_type": "stream",
     "text": [
      "torch.Size([128256])\n"
     ]
    }
   ],
   "execution_count": 67
  },
  {
   "metadata": {
    "ExecuteTime": {
     "end_time": "2024-06-26T18:32:20.696320Z",
     "start_time": "2024-06-26T18:32:20.692744Z"
    }
   },
   "cell_type": "code",
   "source": [
    "next_token = torch.argmax(logits, dim=-1)\n",
    "next_token"
   ],
   "id": "721a1d328deacd5c",
   "outputs": [
    {
     "data": {
      "text/plain": [
       "tensor(2983)"
      ]
     },
     "execution_count": 68,
     "metadata": {},
     "output_type": "execute_result"
    }
   ],
   "execution_count": 68
  },
  {
   "metadata": {
    "ExecuteTime": {
     "end_time": "2024-06-26T18:32:42.079340Z",
     "start_time": "2024-06-26T18:32:42.077111Z"
    }
   },
   "cell_type": "code",
   "source": "tokenizer.decode([next_token.item()])",
   "id": "6acea3b3fa7371e3",
   "outputs": [
    {
     "data": {
      "text/plain": [
       "'42'"
      ]
     },
     "execution_count": 69,
     "metadata": {},
     "output_type": "execute_result"
    }
   ],
   "execution_count": 69
  }
 ],
 "metadata": {
  "kernelspec": {
   "display_name": "Python 3",
   "language": "python",
   "name": "python3"
  },
  "language_info": {
   "codemirror_mode": {
    "name": "ipython",
    "version": 2
   },
   "file_extension": ".py",
   "mimetype": "text/x-python",
   "name": "python",
   "nbconvert_exporter": "python",
   "pygments_lexer": "ipython2",
   "version": "2.7.6"
  }
 },
 "nbformat": 4,
 "nbformat_minor": 5
}
